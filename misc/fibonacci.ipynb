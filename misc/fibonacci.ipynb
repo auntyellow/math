{
 "cells": [
  {
   "cell_type": "code",
   "execution_count": 1,
   "metadata": {},
   "outputs": [],
   "source": [
    "import numpy as np\n",
    "import numpy.linalg as la"
   ]
  },
  {
   "cell_type": "markdown",
   "metadata": {},
   "source": [
    "### F<sub>n</sub> = F<sub>n-1</sub>+F<sub>n-2</sub>"
   ]
  },
  {
   "cell_type": "markdown",
   "metadata": {},
   "source": [
    "$\n",
    "\\begin{pmatrix}F_n\\\\F_{n-1}\\end{pmatrix}\n",
    "=\n",
    "\\begin{pmatrix}1&1\\\\1&0\\end{pmatrix}\n",
    "\\begin{pmatrix}F_{n-1}\\\\F_{n-2}\\end{pmatrix}\n",
    "$\n",
    "\n",
    "$\n",
    "\\begin{pmatrix}F_1\\\\F_0\\end{pmatrix}\n",
    "=\n",
    "\\begin{pmatrix}1\\\\0\\end{pmatrix}\n",
    "$\n",
    "\n",
    "$\n",
    "\\begin{pmatrix}F_n\\\\F_{n-1}\\end{pmatrix}\n",
    "=\n",
    "\\begin{pmatrix}1&1\\\\1&0\\end{pmatrix}^{n-1}\n",
    "\\begin{pmatrix}1\\\\0\\end{pmatrix}\n",
    "$"
   ]
  },
  {
   "cell_type": "code",
   "execution_count": 2,
   "metadata": {},
   "outputs": [
    {
     "name": "stdout",
     "output_type": "stream",
     "text": [
      "F50 = 12586269025\n"
     ]
    }
   ],
   "source": [
    "A = np.array([\n",
    "    [1, 1],\n",
    "    [1, 0]\n",
    "])\n",
    "F1 = np.array([1, 0])\n",
    "print(\"F50 =\", (la.matrix_power(A, 49) @ F1)[0])"
   ]
  },
  {
   "cell_type": "markdown",
   "metadata": {},
   "source": [
    "$\n",
    "\\mathbf{A}=\n",
    "\\begin{pmatrix}1&1\\\\1&0\\end{pmatrix}\n",
    "$\n",
    "\n",
    "$\n",
    "\\mathbf{\\Lambda}\n",
    "=\n",
    "\\begin{pmatrix}\\lambda_1&0\\\\0&\\lambda_2\\end{pmatrix}\n",
    "$\n",
    "\n",
    "$\n",
    "\\mathbf{V}=\n",
    "\\begin{pmatrix}\\mathbf{v}_1&\\mathbf{v}_2\\end{pmatrix}\n",
    "$\n",
    "\n",
    "$\n",
    "\\begin{matrix}\n",
    "\\mathbf{A}\\mathbf{v}_1\n",
    "=\n",
    "\\lambda_1\\mathbf{v}_1\n",
    "\\\\\n",
    "\\mathbf{A}\\mathbf{v}_2\n",
    "=\n",
    "\\lambda_2\\mathbf{v}_2\n",
    "\\end{matrix}\n",
    "\\Big\\}\n",
    "\\Rightarrow\n",
    "\\mathbf{A}\\mathbf{V}\n",
    "=\n",
    "\\mathbf{V}\\mathbf{\\Lambda}\n",
    "\\Rightarrow\n",
    "\\mathbf{A}\n",
    "=\n",
    "\\mathbf{V}\\mathbf{\\Lambda}\\mathbf{V}^{-1}\n",
    "\\Rightarrow\n",
    "\\mathbf{A}^n\n",
    "=\n",
    "\\mathbf{V}\\mathbf{\\Lambda}^n\\mathbf{V}^{-1}\n",
    "=\n",
    "\\mathbf{V}\n",
    "\\begin{pmatrix}\\lambda_1^n&0\\\\0&\\lambda_2^n\\end{pmatrix}\n",
    "\\mathbf{V}^{-1}\n",
    "$\n",
    "\n",
    "$\n",
    "\\begin{pmatrix}F_n\\\\F_{n-1}\\end{pmatrix}\n",
    "=\n",
    "\\mathbf{V}\n",
    "\\begin{pmatrix}\\lambda_1^{n-1}&0\\\\0&\\lambda_2^{n-1}\\end{pmatrix}\n",
    "\\mathbf{V}^{-1}\n",
    "\\begin{pmatrix}1\\\\0\\end{pmatrix}\n",
    "$"
   ]
  },
  {
   "cell_type": "code",
   "execution_count": 3,
   "metadata": {},
   "outputs": [
    {
     "name": "stdout",
     "output_type": "stream",
     "text": [
      "W =\n",
      " [ 1.61803399 -0.61803399]\n",
      "V =\n",
      " [[ 0.85065081 -0.52573111]\n",
      " [ 0.52573111  0.85065081]]\n",
      "A =\n",
      " [[ 1.00000000e+00  1.00000000e+00]\n",
      " [ 1.00000000e+00 -1.11022302e-16]]\n",
      "F50 = 12586269025.000023\n"
     ]
    }
   ],
   "source": [
    "W, V = la.eig(A)\n",
    "print(\"W =\\n\", W)\n",
    "print(\"V =\\n\", V)\n",
    "print(\"A =\\n\", V @ np.diag(W) @ la.inv(V))\n",
    "print(\"F50 =\", (V @ np.diag(np.power(W, 49)) @ la.inv(V) @ F1)[0])"
   ]
  },
  {
   "cell_type": "markdown",
   "metadata": {},
   "source": [
    "### F<sub>n</sub> = 2F<sub>n-1</sub>+1"
   ]
  },
  {
   "cell_type": "markdown",
   "metadata": {},
   "source": [
    "$\n",
    "\\begin{pmatrix}F_n\\\\1\\end{pmatrix}\n",
    "=\n",
    "\\begin{pmatrix}2&1\\\\0&1\\end{pmatrix}\n",
    "\\begin{pmatrix}F_{n-1}\\\\1\\end{pmatrix}\n",
    "$\n",
    "\n",
    "$\n",
    "\\begin{pmatrix}F_0\\\\1\\end{pmatrix}\n",
    "=\n",
    "\\begin{pmatrix}0\\\\1\\end{pmatrix}\n",
    "$\n",
    "\n",
    "$\n",
    "\\begin{pmatrix}F_n\\\\1\\end{pmatrix}\n",
    "=\n",
    "\\begin{pmatrix}2&1\\\\0&1\\end{pmatrix}^n\n",
    "\\begin{pmatrix}0\\\\1\\end{pmatrix}\n",
    "$"
   ]
  },
  {
   "cell_type": "code",
   "execution_count": 4,
   "metadata": {},
   "outputs": [
    {
     "name": "stdout",
     "output_type": "stream",
     "text": [
      "F20 = 1048575\n"
     ]
    }
   ],
   "source": [
    "A = np.array([\n",
    "    [2, 1],\n",
    "    [0, 1]\n",
    "])\n",
    "F0 = np.array([0, 1])\n",
    "print(\"F20 =\", (la.matrix_power(A, 20) @ F0)[0])"
   ]
  },
  {
   "cell_type": "code",
   "execution_count": 8,
   "metadata": {},
   "outputs": [
    {
     "name": "stdout",
     "output_type": "stream",
     "text": [
      "W =\n",
      " [2. 1.]\n",
      "V =\n",
      " [[ 1.         -0.70710678]\n",
      " [ 0.          0.70710678]]\n",
      "A =\n",
      " [[2. 1.]\n",
      " [0. 1.]]\n",
      "F20 = 1048575.0\n"
     ]
    }
   ],
   "source": [
    "A = np.array([\n",
    "    [2, 1],\n",
    "    [0, 1]\n",
    "])\n",
    "W, V = la.eig(A)\n",
    "print(\"W =\\n\", W)\n",
    "print(\"V =\\n\", V)\n",
    "print(\"A =\\n\", V @ np.diag(W) @ la.inv(V))\n",
    "print(\"F20 =\", (V @ np.diag(np.power(W, 20)) @ la.inv(V) @ F0)[0])"
   ]
  }
 ],
 "metadata": {
  "kernelspec": {
   "display_name": "Python 3",
   "language": "python",
   "name": "python3"
  },
  "language_info": {
   "codemirror_mode": {
    "name": "ipython",
    "version": 3
   },
   "file_extension": ".py",
   "mimetype": "text/x-python",
   "name": "python",
   "nbconvert_exporter": "python",
   "pygments_lexer": "ipython3",
   "version": "3.7.3"
  }
 },
 "nbformat": 4,
 "nbformat_minor": 2
}
